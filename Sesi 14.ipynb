{
 "cells": [
  {
   "cell_type": "markdown",
   "metadata": {},
   "source": [
    "# SESI 14 - PYTHON FUNDAMENTAL PRACTICE"
   ]
  },
  {
   "cell_type": "markdown",
   "metadata": {},
   "source": [
    "### IF"
   ]
  },
  {
   "cell_type": "markdown",
   "metadata": {},
   "source": [
    "1. Buatlah program Python yang menerima 2 angka sebagai input, dan print angka yang lebih besar"
   ]
  },
  {
   "cell_type": "code",
   "execution_count": 1,
   "metadata": {},
   "outputs": [
    {
     "name": "stdout",
     "output_type": "stream",
     "text": [
      "4.0 is greater.\n"
     ]
    }
   ],
   "source": [
    "num1 = float(input(\"Enter the first number: \"))\n",
    "num2 = float(input(\"Enter the second number: \"))\n",
    "\n",
    "if num1>num2:\n",
    "    print(f\"{num1} is greater.\")\n",
    "elif num2>num1:\n",
    "    print(f\"{num2} is greater.\")\n",
    "else:\n",
    "    print(\"Both numbers are equal.\")"
   ]
  },
  {
   "cell_type": "markdown",
   "metadata": {},
   "source": [
    "2. Buatlah program Python yang bisa mengecek apakah tahun ini termasuk tahun kabisat atau bukan"
   ]
  },
  {
   "cell_type": "code",
   "execution_count": 2,
   "metadata": {},
   "outputs": [
    {
     "name": "stdout",
     "output_type": "stream",
     "text": [
      "2022 is not a leap year.\n"
     ]
    }
   ],
   "source": [
    "year = int(input(\"Enter a year: \"))\n",
    "if (year % 4 == 0 and year % 100 != 0) or (year % 400 == 0):    \n",
    "    print(f\"{year} is a leap year.\")\n",
    "else:    \n",
    "    print(f\"{year} is not a leap year.\")"
   ]
  },
  {
   "cell_type": "markdown",
   "metadata": {},
   "source": [
    "### WHILE"
   ]
  },
  {
   "cell_type": "markdown",
   "metadata": {},
   "source": [
    "3. Buatlah program yang menghitung total semua angka genap dari 1 sampai 100, gunakan ‘while’ loop"
   ]
  },
  {
   "cell_type": "code",
   "execution_count": 3,
   "metadata": {},
   "outputs": [
    {
     "name": "stdout",
     "output_type": "stream",
     "text": [
      "Sum of even numbers from 1 to 100: 2550\n"
     ]
    }
   ],
   "source": [
    "total = 0\n",
    "num = 2\n",
    "while num <= 100:    \n",
    "    total += num    \n",
    "    num += 2\n",
    "    \n",
    "print(\"Sum of even numbers from 1 to 100:\", total)"
   ]
  },
  {
   "cell_type": "markdown",
   "metadata": {},
   "source": [
    "4. Buatlah program yang terus meminta input user untuk memasukkan password hingga password “secret” terinput"
   ]
  },
  {
   "cell_type": "code",
   "execution_count": 4,
   "metadata": {},
   "outputs": [
    {
     "name": "stdout",
     "output_type": "stream",
     "text": [
      "Incorrect password. Try again.\n",
      "Access granted!\n"
     ]
    }
   ],
   "source": [
    "password = \"secret\"\n",
    "\n",
    "while True:\n",
    "    user_input = input(\"Masukkan password: \")\n",
    "    if user_input == password:\n",
    "        print(\"Access granted!\")\n",
    "        break\n",
    "    else:\n",
    "        print(\"Incorrect password. Try again.\")"
   ]
  },
  {
   "cell_type": "markdown",
   "metadata": {},
   "source": [
    "### FOR"
   ]
  },
  {
   "cell_type": "markdown",
   "metadata": {},
   "source": [
    "5. Buatlah program yang membuat tabel multiplikasi untuk sebuah angka dari 1 * num hingga 10 * num. gunakan ‘for’ loop."
   ]
  },
  {
   "cell_type": "code",
   "execution_count": 5,
   "metadata": {},
   "outputs": [
    {
     "name": "stdout",
     "output_type": "stream",
     "text": [
      "20 x 1 = 20\n",
      "20 x 2 = 40\n",
      "20 x 3 = 60\n",
      "20 x 4 = 80\n",
      "20 x 5 = 100\n",
      "20 x 6 = 120\n",
      "20 x 7 = 140\n",
      "20 x 8 = 160\n",
      "20 x 9 = 180\n",
      "20 x 10 = 200\n"
     ]
    }
   ],
   "source": [
    "num = int(input(\"Enter a number: \"))\n",
    "for i in range(1, 11):    \n",
    "    print(f\"{num} x {i} = {num * i}\")\n"
   ]
  },
  {
   "cell_type": "markdown",
   "metadata": {},
   "source": [
    "6. Buatlah program yang menghitung jumlah huruf hidup dalam sebuah string"
   ]
  },
  {
   "cell_type": "code",
   "execution_count": 8,
   "metadata": {},
   "outputs": [
    {
     "name": "stdout",
     "output_type": "stream",
     "text": [
      "Number of vowels in the string 'berliana': 4\n"
     ]
    }
   ],
   "source": [
    "text = input(\"Enter a string: \")\n",
    "text = text.lower()\n",
    "vowel_count = 0\n",
    "\n",
    "for char in text:\n",
    "    if char in \"aiueo\":\n",
    "        vowel_count += 1\n",
    "\n",
    "print(f\"Number of vowels in the string '{text}': {vowel_count}\")"
   ]
  },
  {
   "cell_type": "markdown",
   "metadata": {},
   "source": [
    "### FUNCTION"
   ]
  },
  {
   "cell_type": "markdown",
   "metadata": {},
   "source": [
    "7. Buatlah sebuah fungsi bernama `sapa` yang menerima satu argumen berupa nama dan mencetak pesan sapaan. Panggil fungsi tersebut dengan nama \"John\"."
   ]
  },
  {
   "cell_type": "code",
   "execution_count": 9,
   "metadata": {},
   "outputs": [
    {
     "name": "stdout",
     "output_type": "stream",
     "text": [
      "Halo, Berlin!\n"
     ]
    }
   ],
   "source": [
    "def sapa(name):\n",
    "    print(f\"Halo, {name}!\")\n",
    "\n",
    "sapa(\"Berlin\")"
   ]
  },
  {
   "cell_type": "markdown",
   "metadata": {},
   "source": [
    "8. Buatlah sebuah fungsi `kuadrat` yang menerima satu angka sebagai argumen dan mengembalikan kuadrat dari angka tersebut. Cobalah fungsi ini dengan beberapa angka."
   ]
  },
  {
   "cell_type": "code",
   "execution_count": 10,
   "metadata": {},
   "outputs": [
    {
     "name": "stdout",
     "output_type": "stream",
     "text": [
      "4\n"
     ]
    }
   ],
   "source": [
    "def kuadrat(angka):\n",
    "    return angka**2\n",
    "\n",
    "hasil = kuadrat(2)\n",
    "print(hasil)"
   ]
  },
  {
   "cell_type": "markdown",
   "metadata": {},
   "source": [
    "9. Buatlah sebuah fungsi `hitung_luas_persegi` yang menerima dua argumen: panjang dan lebar. Fungsi ini mengembalikan luas persegi tersebut. Jika salah satu argumen tidak disediakan, gunakan nilai default 1.0."
   ]
  },
  {
   "cell_type": "code",
   "execution_count": 11,
   "metadata": {},
   "outputs": [
    {
     "name": "stdout",
     "output_type": "stream",
     "text": [
      "12\n"
     ]
    }
   ],
   "source": [
    "def hitung_luas_persegi(panjang=1.0,lebar=1.0):\n",
    "    return panjang*lebar\n",
    "\n",
    "luas = hitung_luas_persegi(4,3)\n",
    "print(luas)"
   ]
  },
  {
   "cell_type": "markdown",
   "metadata": {},
   "source": [
    "10. Buatlah sebuah fungsi `bentuk_nama` yang menerima dua argumen: nama_depan dan nama_belakang. Fungsi ini mengembalikan nama lengkap. Jika nama_belakang tidak disediakan, gunakan string kosong untuk nama_belakang."
   ]
  },
  {
   "cell_type": "code",
   "execution_count": 12,
   "metadata": {},
   "outputs": [
    {
     "name": "stdout",
     "output_type": "stream",
     "text": [
      "Berlin Kiyowo\n"
     ]
    }
   ],
   "source": [
    "def bentuk_nama(fname,lname=\"\"):\n",
    "    return f\"{fname} {lname}\"\n",
    "\n",
    "name = bentuk_nama(\"Berlin\", \"Kiyowo\")\n",
    "print(name)"
   ]
  },
  {
   "cell_type": "markdown",
   "metadata": {},
   "source": [
    "11. Buatlah sebuah fungsi `konversi_fahrenheit_ke_celcius` yang menerima suhu dalam Fahrenheit dan mengembalikan suhu tersebut dalam Celcius. Rumus konversi adalah: Celsius = (Fahrenheit - 32) * 5/9."
   ]
  },
  {
   "cell_type": "code",
   "execution_count": 13,
   "metadata": {},
   "outputs": [
    {
     "name": "stdout",
     "output_type": "stream",
     "text": [
      "37.0\n"
     ]
    }
   ],
   "source": [
    "def konversi_fahr_ke_celc(fahrenheit):\n",
    "    celsius = (fahrenheit-32)*5/9\n",
    "    return celsius\n",
    "\n",
    "suhu_celsius = konversi_fahr_ke_celc(98.6)\n",
    "print(suhu_celsius)"
   ]
  },
  {
   "cell_type": "markdown",
   "metadata": {},
   "source": [
    "12. Buatlah sebuah fungsi `hitung_pangkat` yang menerima dua argumen: angka dan pangkat. Fungsi ini mengembalikan hasil dari angka pangkat pangkat"
   ]
  },
  {
   "cell_type": "code",
   "execution_count": 15,
   "metadata": {},
   "outputs": [
    {
     "name": "stdout",
     "output_type": "stream",
     "text": [
      "8\n"
     ]
    }
   ],
   "source": [
    "def hitung_pangkat(angka,pangkat):\n",
    "    hasil = 1\n",
    "    for i in range(pangkat):\n",
    "        hasil *= angka\n",
    "    return hasil\n",
    "\n",
    "pangkat = hitung_pangkat(2,3)\n",
    "print(pangkat)"
   ]
  },
  {
   "cell_type": "markdown",
   "metadata": {},
   "source": [
    "### MODULE"
   ]
  },
  {
   "cell_type": "code",
   "execution_count": 3,
   "metadata": {},
   "outputs": [
    {
     "name": "stdout",
     "output_type": "stream",
     "text": [
      "Hello, Liana!\n",
      "Luas lingkaran dengan radius 5 adalah 78.54\n"
     ]
    }
   ],
   "source": [
    "#main.py\n",
    "import my_module\n",
    "\n",
    "message = my_module.greet(\"Liana\")\n",
    "print(message)\n",
    "\n",
    "radius=5\n",
    "area = my_module.pi * my_module.square(radius)\n",
    "print(f\"Luas lingkaran dengan radius {radius} adalah {area:.2f}\")"
   ]
  },
  {
   "cell_type": "markdown",
   "metadata": {},
   "source": [
    "Kalkulator Sederhana"
   ]
  },
  {
   "cell_type": "code",
   "execution_count": 4,
   "metadata": {},
   "outputs": [
    {
     "name": "stdout",
     "output_type": "stream",
     "text": [
      "Pilih operasi:\n",
      "1. Tambah\n",
      "2. Kurang\n",
      "3. Kali\n",
      "4. Bagi\n",
      "5. Keluar\n",
      "Hasil:  5.0\n",
      "Pilih operasi:\n",
      "1. Tambah\n",
      "2. Kurang\n",
      "3. Kali\n",
      "4. Bagi\n",
      "5. Keluar\n",
      "Keluar dari kalkulator\n"
     ]
    }
   ],
   "source": [
    "def tambah(x,y):\n",
    "    return x+y\n",
    "\n",
    "def kurang(x,y):\n",
    "    return x-y\n",
    "\n",
    "def kali(x,y):\n",
    "    return x*y\n",
    "\n",
    "def bagi(x,y):\n",
    "    if y==0:\n",
    "        return \"Tidak bisa dibagi oleh 0\"\n",
    "    return x/y\n",
    "\n",
    "while True:\n",
    "    print(\"Pilih operasi:\")\n",
    "    print(\"1. Tambah\")\n",
    "    print(\"2. Kurang\")\n",
    "    print(\"3. Kali\")\n",
    "    print(\"4. Bagi\")\n",
    "    print(\"5. Keluar\")\n",
    "\n",
    "    pilihan = input(\"Masukkan nomor operasi (1/2/3/4/5)\")\n",
    "\n",
    "    if pilihan=='5':\n",
    "        print(\"Keluar dari kalkulator\")\n",
    "        break\n",
    "\n",
    "    angka1 = float(input(\"Masukkan angka pertama: \"))\n",
    "    angka2 = float(input(\"Masukkan angka kedua: \"))\n",
    "\n",
    "    if pilihan == '1':\n",
    "        print(\"Hasil: \", tambah(angka1,angka2))\n",
    "\n",
    "    elif pilihan=='2':\n",
    "        print(\"Hasil: \", kurang(angka1,angka2))\n",
    "\n",
    "    elif pilihan=='3':\n",
    "        print(\"Hasil: \", kali(angka1,angka2))\n",
    "\n",
    "    elif pilihan=='4':\n",
    "        print(\"Hasil: \", bagi(angka1,angka2))\n",
    "    else:\n",
    "        print(\"Pilihan tidak valid! yang valid dong\")"
   ]
  },
  {
   "cell_type": "markdown",
   "metadata": {},
   "source": [
    "Daftar Belanja"
   ]
  },
  {
   "cell_type": "code",
   "execution_count": 6,
   "metadata": {},
   "outputs": [
    {
     "name": "stdout",
     "output_type": "stream",
     "text": [
      "Apa yg mau anda lakukan?\n",
      "1. Tambah item ke daftar belanja\n",
      "2. Hapus item dari daftar belanja\n",
      "3. Tampilkan daftar belanja\n",
      "4. Keluar\n"
     ]
    },
    {
     "name": "stdout",
     "output_type": "stream",
     "text": [
      "Sunscreen telah ditambahkan ke daftar belanja.\n",
      "Apa yg mau anda lakukan?\n",
      "1. Tambah item ke daftar belanja\n",
      "2. Hapus item dari daftar belanja\n",
      "3. Tampilkan daftar belanja\n",
      "4. Keluar\n",
      "Toner telah ditambahkan ke daftar belanja.\n",
      "Apa yg mau anda lakukan?\n",
      "1. Tambah item ke daftar belanja\n",
      "2. Hapus item dari daftar belanja\n",
      "3. Tampilkan daftar belanja\n",
      "4. Keluar\n",
      "Daftar Belanja:\n",
      "- Sunscreen\n",
      "- Toner\n",
      "Apa yg mau anda lakukan?\n",
      "1. Tambah item ke daftar belanja\n",
      "2. Hapus item dari daftar belanja\n",
      "3. Tampilkan daftar belanja\n",
      "4. Keluar\n",
      "Keluar dari daftar belanja\n"
     ]
    }
   ],
   "source": [
    "shopping_list=[]\n",
    "\n",
    "def tambah_item(item):    \n",
    "    shopping_list.append(item)    \n",
    "    print(f\"{item} telah ditambahkan ke daftar belanja.\")\n",
    "    \n",
    "def hapus_item(item):    \n",
    "    if item in shopping_list:        \n",
    "        shopping_list.remove(item)        \n",
    "        print(f\"{item} telah dihapus dari daftar belanja.\")    \n",
    "    else:        \n",
    "        print(f\"{item} tidak ditemukan dalam daftar belanja.\")\n",
    "    \n",
    "def tampilkan_daftar():    \n",
    "    print(\"Daftar Belanja:\")    \n",
    "    for item in shopping_list:        \n",
    "        print(\"-\", item)\n",
    "\n",
    "while True:\n",
    "    print(\"Apa yg mau anda lakukan?\")\n",
    "    print(\"1. Tambah item ke daftar belanja\")\n",
    "    print(\"2. Hapus item dari daftar belanja\")\n",
    "    print(\"3. Tampilkan daftar belanja\")\n",
    "    print(\"4. Keluar\")\n",
    "\n",
    "    pilihan = input(\"Pilih tindakan (1/2/3/4): \")\n",
    "\n",
    "    if pilihan=='1':\n",
    "        item=input(\"Masukkan item yang ingin ditambahkan: \")\n",
    "        tambah_item(item)\n",
    "    elif pilihan=='2':\n",
    "        item=input('Masukkan item yang ingin dihapus: ')\n",
    "        hapus_item(item)\n",
    "    elif pilihan=='3':\n",
    "        tampilkan_daftar()\n",
    "    elif pilihan=='4':\n",
    "        print(\"Keluar dari daftar belanja\")\n",
    "        break\n",
    "    else:\n",
    "        print(\"Pilihan tidak valid\")\n",
    "        "
   ]
  },
  {
   "cell_type": "markdown",
   "metadata": {},
   "source": [
    "Kalkulator BMI"
   ]
  },
  {
   "cell_type": "code",
   "execution_count": 1,
   "metadata": {},
   "outputs": [
    {
     "name": "stdout",
     "output_type": "stream",
     "text": [
      "BMI Anda adalah 18.99 (Normal).\n"
     ]
    }
   ],
   "source": [
    "def hitung_bmi(berat, tinggi):    \n",
    "    tinggi_m = tinggi / 100    \n",
    "    bmi = berat / (tinggi_m ** 2)    \n",
    "    return bmi\n",
    "\n",
    "def kategori_bmi(bmi):    \n",
    "    if bmi < 18.5:        \n",
    "        return \"Kurus\"    \n",
    "    elif 18.5 <= bmi < 24.9:        \n",
    "        return \"Normal\"    \n",
    "    elif 25 <= bmi < 29.9:        \n",
    "        return \"Gemuk\"    \n",
    "    else:        \n",
    "        return \"Obesitas\"\n",
    "    \n",
    "berat = float(input(\"Masukkan berat badan (kg): \"))\n",
    "tinggi = float(input(\"Masukkan tinggi badan (cm): \"))\n",
    "bmi = hitung_bmi(berat, tinggi)\n",
    "kategori = kategori_bmi(bmi)\n",
    "print(f\"BMI Anda adalah {bmi:.2f} ({kategori}).\")\n"
   ]
  },
  {
   "cell_type": "markdown",
   "metadata": {},
   "source": [
    "Pencarian Kata dalam Teks"
   ]
  },
  {
   "cell_type": "code",
   "execution_count": 7,
   "metadata": {},
   "outputs": [
    {
     "name": "stdout",
     "output_type": "stream",
     "text": [
      "'ber' tidak ditemukan dalam teks.\n"
     ]
    }
   ],
   "source": [
    "teks = \"\"\"Ini adalah contoh teks. \n",
    "Teks ini digunakan untuk latihan pencarian kata.\"\"\"\n",
    "kata_cari = input(\"Masukkan kata yang ingin Anda cari: \")\n",
    "if kata_cari in teks:    \n",
    "    print(f\"'{kata_cari}' ditemukan dalam teks.\")\n",
    "else:    \n",
    "    print(f\"'{kata_cari}' tidak ditemukan dalam teks.\")\n"
   ]
  },
  {
   "cell_type": "markdown",
   "metadata": {},
   "source": [
    "Konversi Mata Uang"
   ]
  },
  {
   "cell_type": "code",
   "execution_count": 8,
   "metadata": {},
   "outputs": [
    {
     "name": "stdout",
     "output_type": "stream",
     "text": [
      "1000.0 USD setara dengan 15000000.0 IDR.\n"
     ]
    }
   ],
   "source": [
    "def konversi_mata_uang(jumlah, nilai_tukar):    \n",
    "    return jumlah * nilai_tukar\n",
    "nilai_tukar_usd_ke_idr = 15000\n",
    "\n",
    "jumlah_usd = float(input(\"Masukkan jumlah dlm USD: \"))\n",
    "jumlah_idr = konversi_mata_uang(jumlah_usd, nilai_tukar_usd_ke_idr)\n",
    "print(f\"{jumlah_usd} USD setara dengan {jumlah_idr} IDR.\")\n"
   ]
  },
  {
   "cell_type": "markdown",
   "metadata": {},
   "source": [
    "Read and Write from Excel"
   ]
  },
  {
   "cell_type": "code",
   "execution_count": null,
   "metadata": {},
   "outputs": [],
   "source": [
    "import pandas as pd\n",
    "def baca_data_excel(nama_file):    \n",
    "    df = pd.read_excel(nama_file)    \n",
    "    return df\n",
    "def tulis_data_excel(nama_file, df):    \n",
    "    df.to_excel(nama_file, index=False)\n",
    "    \n",
    "def main():    \n",
    "    nama_file = 'produk.xlsx'    \n",
    "    produk = baca_data_excel(nama_file)    \n",
    "    print(\"Data Produk:\")    \n",
    "    print(produk)    \n",
    "    tambah_produk = input(\"Tambah produk baru? (y/n): \")    \n",
    "    if tambah_produk.lower() == 'y':        \n",
    "        nama_produk = input(\"Nama produk: \")        \n",
    "        harga_produk = input(\"Harga produk (IDR): \")        \n",
    "        stok_produk = input(\"Stok produk: \")        \n",
    "        \n",
    "        produk_baru = {'Nama Produk': nama_produk, 'Harga': harga_produk, 'Stok': stok_produk}        \n",
    "        produk = produk.append(produk_baru, ignore_index=True)        \n",
    "        \n",
    "        tulis_data_excel(nama_file, produk)        \n",
    "        print(\"Produk berhasil ditambahkan dan disimpan.\")\n",
    "        \n",
    "if __name__ == \"__main__\":    \n",
    "    main()\n"
   ]
  },
  {
   "cell_type": "markdown",
   "metadata": {},
   "source": [
    "Read and Write from SQL"
   ]
  },
  {
   "cell_type": "code",
   "execution_count": null,
   "metadata": {},
   "outputs": [],
   "source": [
    "import sqlite3  \n",
    "\n",
    "#Fungsi untuk membaca data dari table\n",
    "def baca_data_sqlite(database_file):\n",
    "    connection = sqlite3.connect(database_file)    \n",
    "    cursor = connection.cursor()    \n",
    "    cursor.execute(\"SELECT * FROM produk\")    \n",
    "    data = cursor.fetchall()    \n",
    "    connection.close()    \n",
    "    return data\n",
    "\n",
    "# Fungsi untuk menambahkan data ke dalam tabel\n",
    "def tambah_data_sqlite(database_file, nama_produk, harga, stok):    \n",
    "    connection = sqlite3.connect(database_file)    \n",
    "    cursor = connection.cursor()    \n",
    "    cursor.execute(\"INSERT INTO produk (nama_produk, harga, stok) VALUES (?, ?, ?)\",                   \n",
    "                   (nama_produk, harga, stok))    \n",
    "    connection.commit()    \n",
    "    connection.close()\n",
    "    \n",
    "def main():    \n",
    "    database_file = 'produk.db'    \n",
    "    produk = baca_data_sqlite(database_file)    \n",
    "    \n",
    "    print(\"Data Produk:\")    \n",
    "    for item in produk:        \n",
    "        print(f\"{item[1]}: {item[2]} IDR, Stok: {item[3]}\")    \n",
    "    tambah_produk = input(\"Tambah produk baru? (y/n): \")    \n",
    "    if tambah_produk.lower() == 'y':        \n",
    "        nama_produk = input(\"Nama produk: \")        \n",
    "        harga_produk = input(\"Harga produk (IDR): \")        \n",
    "        stok_produk = input(\"Stok produk: \")        \n",
    "        \n",
    "        tambah_data_sqlite(database_file, nama_produk, harga_produk, stok_produk)        \n",
    "        print(\"Produk berhasil ditambahkan dan disimpan.\")\n",
    "        \n",
    "if __name__ == \"__main__\":    \n",
    "    main()\n"
   ]
  },
  {
   "cell_type": "markdown",
   "metadata": {},
   "source": [
    "Read dan Write from CSV"
   ]
  },
  {
   "cell_type": "code",
   "execution_count": null,
   "metadata": {},
   "outputs": [],
   "source": [
    "import csv\n",
    "def baca_data_csv(nama_file):    \n",
    "    data = []    \n",
    "    with open(nama_file, mode='r') as file:        \n",
    "        csv_reader = csv.DictReader(file)        \n",
    "        for row in csv_reader:            \n",
    "            data.append(row)    \n",
    "    return data\n",
    "\n",
    "def tulis_data_csv(nama_file, data):    \n",
    "    with open(nama_file, mode='w', newline='') as file:        \n",
    "        fieldnames = data[0].keys()        \n",
    "        writer = csv.DictWriter(file, fieldnames=fieldnames)        \n",
    "        writer.writeheader()        \n",
    "        writer.writerows(data)\n",
    "        \n",
    "def main():    \n",
    "    nama_file = 'produk.csv'    \n",
    "    produk = baca_data_csv(nama_file)    \n",
    "    \n",
    "    print(\"Data Produk:\")    \n",
    "    for item in produk:        \n",
    "        print(f\"{item['Nama Produk']}: {item['Harga']} IDR, Stok: {item['Stok']}\")    \n",
    "        \n",
    "    tambah_produk = input(\"Tambah produk baru? (y/n): \")    \n",
    "    if tambah_produk.lower() == 'y':        \n",
    "        nama_produk = input(\"Nama produk: \")        \n",
    "        harga_produk = input(\"Harga produk (IDR): \")        \n",
    "        stok_produk = input(\"Stok produk: \")        \n",
    "        \n",
    "        produk_baru = {'Nama Produk': nama_produk, 'Harga': harga_produk, 'Stok': stok_produk}        \n",
    "        produk.append(produk_baru)        \n",
    "        \n",
    "        tulis_data_csv(nama_file, produk)        \n",
    "        print(\"Produk berhasil ditambahkan dan disimpan.\")\n",
    "        \n",
    "    if __name__ == \"__main__\":    \n",
    "        main()\n"
   ]
  }
 ],
 "metadata": {
  "kernelspec": {
   "display_name": "base",
   "language": "python",
   "name": "python3"
  },
  "language_info": {
   "codemirror_mode": {
    "name": "ipython",
    "version": 3
   },
   "file_extension": ".py",
   "mimetype": "text/x-python",
   "name": "python",
   "nbconvert_exporter": "python",
   "pygments_lexer": "ipython3",
   "version": "3.11.5"
  }
 },
 "nbformat": 4,
 "nbformat_minor": 2
}
